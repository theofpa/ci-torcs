{
 "cells": [
  {
   "cell_type": "code",
   "execution_count": null,
   "metadata": {
    "collapsed": true
   },
   "outputs": [],
   "source": [
    "import numpy as np\n",
    "import torch\n",
    "import torch.nn as nn\n",
    "import torch.utils.data\n",
    "from torch.autograd import Variable"
   ]
  },
  {
   "cell_type": "code",
   "execution_count": 9,
   "metadata": {},
   "outputs": [],
   "source": [
    "sequence_length = 1\n",
    "input_size = 22\n",
    "hidden_size = 200\n",
    "num_layers = 6\n",
    "num_classes = 3\n",
    "batch_size = 100\n",
    "num_epochs = 20\n",
    "learning_rate = 0.001\n",
    "\n",
    "dataset = np.loadtxt(\"alpine-1.csv\", delimiter=',', skiprows=1)\n",
    "sensors=dataset[:,3:]\n",
    "actions=dataset[:,:3]\n",
    "sensors_train=torch.from_numpy(sensors).float()\n",
    "actions_train=torch.from_numpy(actions).float()\n",
    "ds = torch.utils.data.TensorDataset(sensors_train, actions_train)\n",
    "train_loader = torch.utils.data.DataLoader(dataset=ds,batch_size=batch_size,shuffle=True)"
   ]
  },
  {
   "cell_type": "code",
   "execution_count": 10,
   "metadata": {},
   "outputs": [],
   "source": [
    "class RNN(nn.Module):\n",
    "    def __init__(self):\n",
    "        super(RNN, self).__init__()\n",
    "        self.hidden_size = hidden_size\n",
    "        self.num_layers = num_layers\n",
    "        self.lstm = nn.LSTM(input_size, hidden_size, num_layers, batch_first=True)\n",
    "        self.fc = nn.Linear(hidden_size, num_classes)\n",
    "    \n",
    "    def forward(self, x):\n",
    "        # Set initial states \n",
    "        h0 = Variable(torch.zeros(self.num_layers, x.size(0), self.hidden_size).cuda()) \n",
    "        c0 = Variable(torch.zeros(self.num_layers, x.size(0), self.hidden_size).cuda())\n",
    "        \n",
    "        # Forward propagate RNN\n",
    "        out, _ = self.lstm(x, (h0, c0))  \n",
    "        \n",
    "        # Decode hidden state of last time step\n",
    "        out = self.fc(out[:, -1, :])  \n",
    "        return out\n",
    "\n",
    "rnn = RNN()\n",
    "rnn.cuda()\n",
    "criterion = nn.MSELoss()\n",
    "optimizer = torch.optim.Adam(rnn.parameters(), lr=learning_rate)"
   ]
  },
  {
   "cell_type": "code",
   "execution_count": 12,
   "metadata": {},
   "outputs": [
    {
     "name": "stdout",
     "output_type": "stream",
     "text": [
      "Epoch [1/20], Step [100/17046], Loss: 0.0118\n",
      "Epoch [2/20], Step [100/17046], Loss: 0.0360\n",
      "Epoch [3/20], Step [100/17046], Loss: 0.0260\n",
      "Epoch [4/20], Step [100/17046], Loss: 0.0253\n",
      "Epoch [5/20], Step [100/17046], Loss: 0.0144\n",
      "Epoch [6/20], Step [100/17046], Loss: 0.0181\n",
      "Epoch [7/20], Step [100/17046], Loss: 0.0322\n",
      "Epoch [8/20], Step [100/17046], Loss: 0.0059\n",
      "Epoch [9/20], Step [100/17046], Loss: 0.0483\n",
      "Epoch [10/20], Step [100/17046], Loss: 0.0181\n",
      "Epoch [11/20], Step [100/17046], Loss: 0.0291\n",
      "Epoch [12/20], Step [100/17046], Loss: 0.0258\n",
      "Epoch [13/20], Step [100/17046], Loss: 0.0251\n",
      "Epoch [14/20], Step [100/17046], Loss: 0.0238\n",
      "Epoch [15/20], Step [100/17046], Loss: 0.0103\n",
      "Epoch [16/20], Step [100/17046], Loss: 0.0278\n",
      "Epoch [17/20], Step [100/17046], Loss: 0.0148\n",
      "Epoch [18/20], Step [100/17046], Loss: 0.0244\n",
      "Epoch [19/20], Step [100/17046], Loss: 0.0118\n",
      "Epoch [20/20], Step [100/17046], Loss: 0.0202\n"
     ]
    }
   ],
   "source": [
    "# Train the Model\n",
    "for epoch in range(num_epochs):\n",
    "    for i, (images, labels) in enumerate(train_loader):\n",
    "        images = Variable(images.view(-1, sequence_length, input_size)).cuda()  \n",
    "        labels = Variable(labels).cuda()\n",
    "        \n",
    "        # Forward + Backward + Optimize\n",
    "        optimizer.zero_grad()\n",
    "        outputs = rnn(images)\n",
    "        loss = criterion(outputs, labels)\n",
    "        loss.backward()\n",
    "        optimizer.step()\n",
    "        if (i+1) % 100 == 0:\n",
    "            print ('Epoch [%d/%d], Step [%d/%d], Loss: %.4f' %(epoch+1, num_epochs, i+1, len(sensors), loss.data[0]))\n"
   ]
  },
  {
   "cell_type": "code",
   "execution_count": 15,
   "metadata": {
    "collapsed": true
   },
   "outputs": [],
   "source": [
    "# Save the Model\n",
    "torch.save(rnn.state_dict(), 'rnn.pkl')"
   ]
  },
  {
   "cell_type": "code",
   "execution_count": null,
   "metadata": {
    "collapsed": true
   },
   "outputs": [],
   "source": []
  }
 ],
 "metadata": {
  "kernelspec": {
   "display_name": "Python 3",
   "language": "python",
   "name": "python3"
  },
  "language_info": {
   "codemirror_mode": {
    "name": "ipython",
    "version": 3
   },
   "file_extension": ".py",
   "mimetype": "text/x-python",
   "name": "python",
   "nbconvert_exporter": "python",
   "pygments_lexer": "ipython3",
   "version": "3.6.2"
  }
 },
 "nbformat": 4,
 "nbformat_minor": 2
}
